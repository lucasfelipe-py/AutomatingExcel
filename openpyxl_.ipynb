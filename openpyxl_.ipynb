{
 "cells": [
  {
   "cell_type": "code",
   "execution_count": 1,
   "metadata": {},
   "outputs": [],
   "source": [
    "from openpyxl import load_workbook"
   ]
  },
  {
   "cell_type": "code",
   "execution_count": 2,
   "metadata": {},
   "outputs": [
    {
     "data": {
      "text/plain": [
       "<openpyxl.workbook.workbook.Workbook at 0x269f7497700>"
      ]
     },
     "execution_count": 2,
     "metadata": {},
     "output_type": "execute_result"
    }
   ],
   "source": [
    "# Criando novo workbook\n",
    "wb = load_workbook('exemplo.xlsx')\n",
    "wb"
   ]
  },
  {
   "cell_type": "code",
   "execution_count": 10,
   "metadata": {},
   "outputs": [
    {
     "data": {
      "text/plain": [
       "datetime.datetime(2015, 4, 6, 12, 46, 51)"
      ]
     },
     "execution_count": 10,
     "metadata": {},
     "output_type": "execute_result"
    }
   ],
   "source": [
    "# Retornando nome das abas\n",
    "wb.sheetnames\n",
    "# Retornando aba específica pelo nome\n",
    "sheet = wb[\"Sheet1\"]\n",
    "# Retornando valor da célula A3\n",
    "sheet[\"A3\"].value"
   ]
  },
  {
   "cell_type": "code",
   "execution_count": 13,
   "metadata": {},
   "outputs": [
    {
     "data": {
      "text/plain": [
       "<Cell 'Sheet1'.B2>"
      ]
     },
     "execution_count": 13,
     "metadata": {},
     "output_type": "execute_result"
    }
   ],
   "source": [
    "# Retornando valor da célula B2 (mais eficiente pra trabalhar de forma programática)\n",
    "sheet.cell(row=2, column=2)\n",
    "# Retorna a última linha com dado preenchido\n",
    "sheet.max_row\n",
    "# Retorna a última coluna com dado preenchido\n",
    "sheet.max_column"
   ]
  },
  {
   "cell_type": "code",
   "execution_count": 14,
   "metadata": {},
   "outputs": [
    {
     "name": "stdout",
     "output_type": "stream",
     "text": [
      "Apples\n",
      "Cherries\n",
      "Pears\n",
      "Oranges\n",
      "Apples\n",
      "Bananas\n",
      "Strawberries\n"
     ]
    }
   ],
   "source": [
    "# Iterando sobre os valores da coluna 2\n",
    "for i in range(0, sheet.max_row):\n",
    "    print(sheet.cell(row=i+1, column=2).value)"
   ]
  },
  {
   "attachments": {},
   "cell_type": "markdown",
   "metadata": {},
   "source": [
    "### Manipulação de Células"
   ]
  },
  {
   "cell_type": "code",
   "execution_count": null,
   "metadata": {},
   "outputs": [],
   "source": [
    "# Alterando valor de C2 (não altera diretamente no doc original)\n",
    "sheet.cell(row=2, column=3).value = 75\n",
    "# Mesclar células de A1 até D1 (valor de A1 sobrepõe os demais)\n",
    "sheet.merge_cells(\"A1:D1\")\n",
    "# Desfazer uma mesclagem de células (somente o valor de A1 seria preservado)\n",
    "sheet.unmerge_cells(\"A1:D1\")\n",
    "# Inserindo linha na posição 4\n",
    "sheet.insert_rows(4)\n",
    "# Deletando linha na posição 4\n",
    "sheet.delete_rows(4)\n",
    "# Inserindo coluna na posição 4\n",
    "sheet.insert_cols(4)\n",
    "# Deletando coluna na posição 4\n",
    "sheet.delete_cols(4)\n",
    "# Deletando sequência de colunas (deleta 5 colunas a partir da coluna B)\n",
    "sheet.delete_cols(2, 5)\n",
    "\n",
    "# TODAS AS ALTERAÇÕES DEVEM SER SALVAS\n",
    "wb.save('exemplo.xlsx')"
   ]
  },
  {
   "attachments": {},
   "cell_type": "markdown",
   "metadata": {},
   "source": [
    "### Adição de imagens"
   ]
  },
  {
   "cell_type": "code",
   "execution_count": 16,
   "metadata": {},
   "outputs": [],
   "source": [
    "from openpyxl.drawing.image import Image\n",
    "# Instanciando novo objeto Image\n",
    "img = Image('catlogo.png')"
   ]
  },
  {
   "cell_type": "code",
   "execution_count": null,
   "metadata": {},
   "outputs": [],
   "source": [
    "# Adicionando imagem na célula A1\n",
    "sheet.add_image(img, 'A1')\n",
    "wb.save('exemplo_w_catlogo.xlsx')"
   ]
  },
  {
   "attachments": {},
   "cell_type": "markdown",
   "metadata": {},
   "source": [
    "### Fórmulas"
   ]
  },
  {
   "cell_type": "code",
   "execution_count": 3,
   "metadata": {},
   "outputs": [],
   "source": [
    "from openpyxl import Workbook\n",
    "\n",
    "# Instanciando objeto da classe (criando Workbook inexistente)\n",
    "wb2 = Workbook()\n",
    "sheet2 = wb2.active\n",
    "\n",
    "# Atribuindo valores às células A1 e A2\n",
    "sheet2[\"A1\"] = 50\n",
    "sheet2[\"A2\"] = 300\n",
    "\n",
    "# Necessário passar fórmula em inglês\n",
    "formula = \"=SUM(A1:A2)\"\n",
    "# Passando a fórmula de excel por string (A3 = A1 + A2)\n",
    "sheet2[\"A3\"] = formula "
   ]
  },
  {
   "cell_type": "code",
   "execution_count": 11,
   "metadata": {},
   "outputs": [],
   "source": [
    "from openpyxl.formula.translate import Translator\n",
    "\n",
    "# Atribuindo valores às células B1 e B2\n",
    "sheet2[\"B1\"] = 800\n",
    "sheet2[\"B2\"] = 90\n",
    "\n",
    "# Traduz a fórmula que está na célula A3 para a célula B3 (B3 = B1 + B2)\n",
    "sheet2[\"B3\"] = Translator(formula, origin=\"A3\").translate_formula(\"B3\")\n",
    "\n",
    "wb2.save('formulas.xlsx')"
   ]
  },
  {
   "cell_type": "code",
   "execution_count": 10,
   "metadata": {},
   "outputs": [
    {
     "data": {
      "text/plain": [
       "bool"
      ]
     },
     "execution_count": 10,
     "metadata": {},
     "output_type": "execute_result"
    }
   ],
   "source": [
    "from openpyxl.utils import FORMULAE\n",
    "\n",
    "# Retorna um frozenset com todas as fórmulas disponíveisa\n",
    "FORMULAE\n",
    "# Conferindo se determinada fórmula existe em FORMULAE (bool)\n",
    "'SUMPRODUCT' in FORMULAE"
   ]
  },
  {
   "attachments": {},
   "cell_type": "markdown",
   "metadata": {},
   "source": [
    "### Estilização"
   ]
  },
  {
   "cell_type": "code",
   "execution_count": 13,
   "metadata": {},
   "outputs": [],
   "source": [
    "from openpyxl.styles import PatternFill, Border, Side, Alignment, Protection, Font\n",
    "\n",
    "# Fonte (padrão)\n",
    "font = Font(\n",
    "    name='Calibri',\n",
    "    bold=False,\n",
    "    italic=False,\n",
    "    vertAlign=None,\n",
    "    underline='none',\n",
    "    strike=False,\n",
    "    color='FF000000'\n",
    ")\n",
    "\n",
    "wb3 = Workbook()\n",
    "\n",
    "sheet3 = wb3.active\n",
    "\n",
    "# Atribuindo valores às células A1 e A2\n",
    "sheet3[\"A1\"] = \"test\"\n",
    "sheet3[\"A2\"] = \"test2\"\n",
    "sheet3[\"A3\"] = \"test3\"\n",
    "\n",
    "# Alterando o parâmetro bold de A1 (os demais permanecem com o valor padrão)\n",
    "sheet3[\"A1\"].font = Font(bold=True)\n",
    "\n",
    "# Alterando vários parâmetros de A3 (os demais permanecem com o valor padrão)\n",
    "sheet3[\"A3\"].font = Font(\n",
    "    size=20, # Tamanho 20\n",
    "    bold=True, # Negrito\n",
    "    italic=True, # Itálico\n",
    "    color='FFFFFFFF' # Branco\n",
    ")"
   ]
  },
  {
   "cell_type": "code",
   "execution_count": 16,
   "metadata": {},
   "outputs": [],
   "source": [
    "# Alterando preenchimento das células (cor background)\n",
    "fill = PatternFill(\n",
    "    fill_type='solid', # Preenchimento sólido\n",
    "    fgColor='FFFF0000' # Vermelho\n",
    ")\n",
    "\n",
    "sheet3[\"A3\"].fill = fill"
   ]
  },
  {
   "cell_type": "code",
   "execution_count": 18,
   "metadata": {},
   "outputs": [],
   "source": [
    "# Formatação das bordas (padrão)\n",
    "border = Border(\n",
    "    left=Side(\n",
    "        border_style=None,\n",
    "        color='FFFF0000'\n",
    "    ), # Esquerda\n",
    "    right=Side(\n",
    "        border_style=None,\n",
    "        color='FFFF0000'\n",
    "    ), # Direita\n",
    "    top=Side(\n",
    "        border_style=None,\n",
    "        color='FFFF0000'\n",
    "    ), # Cima\n",
    "    bottom=Side(\n",
    "        border_style=None,\n",
    "        color='FFFF0000'\n",
    "    ), # Baixo\n",
    "    diagonal=Side(\n",
    "        border_style=None,\n",
    "        color='FFFF0000'\n",
    "    ), # Diagonal\n",
    "    diagonal_direction=0,\n",
    "    outline=Side(\n",
    "        border_style=None,\n",
    "        color='FFFF0000'\n",
    "    ), # Lado de fora da linha\n",
    "    vertical=Side(\n",
    "        border_style=None,\n",
    "        color='FFFF0000'\n",
    "    ), # Vertical\n",
    "    horizontal=Side(\n",
    "        border_style=None,\n",
    "        color='FFFF0000'\n",
    "    ) # Horizontal\n",
    ")\n",
    "\n",
    "# Opções de border_style:\n",
    "border_options = [\n",
    "    'thin',\n",
    "    'dashed',\n",
    "    'mediumDashed',\n",
    "    'dashDot',\n",
    "    'hair',\n",
    "    'dotted',\n",
    "    'mediumDashDot',\n",
    "    'medium',\n",
    "    'double',\n",
    "    'slantDashDot',\n",
    "    'thick',\n",
    "    'mediumDashed'\n",
    "]\n",
    "\n",
    "sheet3[\"A3\"].border = Border(\n",
    "    right=Side(\n",
    "        border_style='double', # Borda dupla\n",
    "        color='FF00FF00' # Verde\n",
    "    ) # Alterando a borda direita\n",
    ")"
   ]
  },
  {
   "cell_type": "code",
   "execution_count": 20,
   "metadata": {},
   "outputs": [],
   "source": [
    "# Alinhamento (padrão)\n",
    "alignment = Alignment(\n",
    "    horizontal='general',\n",
    "    vertical='bottom',\n",
    "    text_rotation=0,\n",
    "    wrap_text=False,\n",
    "    shrink_to_fit=False,\n",
    "    indent=0\n",
    ")\n",
    "\n",
    "sheet3[\"A3\"].alignment = Alignment(\n",
    "    horizontal='center', # Alinhado horizontalmente no centro da célula\n",
    "    vertical='center', # Alinhado verticalmente no centro da célula\n",
    "    shrink_to_fit=True # Célula se adapta ao tamanho do valor\n",
    ")"
   ]
  },
  {
   "cell_type": "code",
   "execution_count": 21,
   "metadata": {},
   "outputs": [],
   "source": [
    "# Proteção (padrão)\n",
    "protection = Protection(\n",
    "    locked=False,\n",
    "    hidden=False\n",
    ")\n",
    "\n",
    "sheet3[\"A3\"].protection = Protection(\n",
    "    locked=True, # Bloqueia alterações de valores e cópia\n",
    "    hidden=False # Esconde a célula\n",
    ")\n",
    "wb3.save('styles.xlsx')"
   ]
  },
  {
   "attachments": {},
   "cell_type": "markdown",
   "metadata": {},
   "source": [
    "### Gráficos"
   ]
  },
  {
   "attachments": {},
   "cell_type": "markdown",
   "metadata": {},
   "source": [
    "###### Gráfico de linhas"
   ]
  },
  {
   "cell_type": "code",
   "execution_count": 16,
   "metadata": {},
   "outputs": [],
   "source": [
    "from openpyxl import Workbook\n",
    "from openpyxl.chart import LineChart, Reference\n",
    "from datetime import date\n",
    "\n",
    "wb4 = Workbook()\n",
    "ws = wb4.active\n",
    "\n",
    "# Criando as linhas e colunas com valores arbitrários\n",
    "rows = [\n",
    "    ['Date', 'Batch 1', 'Batch2', 'Batch 3'],\n",
    "    [date(2022, 9, 1), 40, 30, 25],\n",
    "    [date(2022, 9, 1), 40, 25, 30],\n",
    "    [date(2022, 9, 1), 50, 30, 45],\n",
    "    [date(2022, 9, 1), 30, 25, 40],\n",
    "    [date(2022, 9, 1), 25, 35, 30],\n",
    "    [date(2022, 9, 1), 20, 40, 35],\n",
    "]\n",
    "\n",
    "# Preenchendo as linhas\n",
    "for row in rows:\n",
    "    ws.append(row)\n",
    "\n",
    "# Instanciando o gráfico    \n",
    "c1 = LineChart()\n",
    "\n",
    "# Títulos\n",
    "c1.title = \"Line Chart\" # Principal\n",
    "c1.y_axis.title = \"Size\" # Eixo Y\n",
    "c1.x_axis.title = \"Test Number\" # Eixo X\n",
    "\n",
    "# Linhas e colunas com os dados\n",
    "data = Reference(\n",
    "    ws,\n",
    "    min_col=2,\n",
    "    min_row=1,\n",
    "    max_col=4,\n",
    "    max_row=7\n",
    ")\n",
    "\n",
    "# Adicionando os dados ao gráfico\n",
    "c1.add_data(data, titles_from_data=True)\n",
    "\n",
    "# Estilizando as linhas do gráfico\n",
    "c1.series[0].marker.symbol = 'triangle' # Marcadores em forma de triângulo\n",
    "c1.series[0].marker.graphicalProperties.solidFill = 'FFFFFF' # Cor dos marcadores\n",
    "\n",
    "# Adicionando o gráfico ao Worksheet e gerando o Workbook\n",
    "ws.add_chart(c1, \"A10\")\n",
    "wb4.save('line_chart.xlsx')"
   ]
  },
  {
   "attachments": {},
   "cell_type": "markdown",
   "metadata": {},
   "source": [
    "###### Gráfico de barras"
   ]
  },
  {
   "cell_type": "code",
   "execution_count": 20,
   "metadata": {},
   "outputs": [],
   "source": [
    "from openpyxl.chart import BarChart\n",
    "\n",
    "wb5 = Workbook()\n",
    "ws = wb5.active\n",
    "\n",
    "# Criando as linhas e colunas com valores arbitrários\n",
    "rows = [\n",
    "    ('Number', 'Batch 1', 'Batch2'),\n",
    "    (2, 10, 30),\n",
    "    (3, 40, 60),\n",
    "    (4, 50, 70),\n",
    "    (5, 20, 10),\n",
    "    (6, 10, 40),\n",
    "    (7, 50, 30)\n",
    "]\n",
    "\n",
    "# Preenchendo as linhas\n",
    "for row in rows:\n",
    "    ws.append(row)\n",
    "\n",
    "# Instanciando o gráfico \n",
    "c2 = BarChart()\n",
    "c2.type = 'col'\n",
    "c2.title = 'Bar Chart'\n",
    "c2.y_axis.title = \"Test number\" # Eixo Y\n",
    "c2.x_axis.title = \"Sample length (mm)\" # Eixo X\n",
    "\n",
    "# Linhas e colunas com os dados\n",
    "data2 = Reference(\n",
    "    ws,\n",
    "    min_col=2,\n",
    "    min_row=1,\n",
    "    max_col=3,\n",
    "    max_row=7\n",
    ")\n",
    "\n",
    "# Linhas e colunas com as categorias\n",
    "categories = Reference(\n",
    "    ws,\n",
    "    min_col=1,\n",
    "    min_row=2,\n",
    "    max_row=7\n",
    ")\n",
    "\n",
    "# Adicionando os dados e categorias ao gráfico\n",
    "c2.add_data(data2, titles_from_data=True)\n",
    "c2.set_categories(categories)\n",
    "\n",
    "# Adicionando o gráfico ao Worksheet e gerando o Workbook\n",
    "ws.add_chart(c2, \"A10\")\n",
    "wb5.save('bar_chart.xlsx')"
   ]
  },
  {
   "attachments": {},
   "cell_type": "markdown",
   "metadata": {},
   "source": [
    "###### Deepcopy"
   ]
  },
  {
   "cell_type": "code",
   "execution_count": 21,
   "metadata": {},
   "outputs": [],
   "source": [
    "from copy import deepcopy\n",
    "\n",
    "# Fazendo uma cópia de c2 e armazenando em c3\n",
    "c3 = deepcopy(c2)\n",
    "\n",
    "# Setando tipo como 'bar' (horizontal)\n",
    "c3.type = 'bar'\n",
    "c3.title = 'Horizontal Bar Chart'\n",
    "\n",
    "# Adicionando o gráfico ao Worksheet e gerando o Workbook\n",
    "ws.add_chart(c3, \"J10\")\n",
    "wb5.save('bar_chart.xlsx')"
   ]
  }
 ],
 "metadata": {
  "kernelspec": {
   "display_name": "Python 3",
   "language": "python",
   "name": "python3"
  },
  "language_info": {
   "codemirror_mode": {
    "name": "ipython",
    "version": 3
   },
   "file_extension": ".py",
   "mimetype": "text/x-python",
   "name": "python",
   "nbconvert_exporter": "python",
   "pygments_lexer": "ipython3",
   "version": "3.10.11"
  },
  "orig_nbformat": 4
 },
 "nbformat": 4,
 "nbformat_minor": 2
}
